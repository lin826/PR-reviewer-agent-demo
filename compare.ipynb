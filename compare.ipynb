{
 "cells": [
  {
   "cell_type": "code",
   "execution_count": 1,
   "id": "380d5638",
   "metadata": {},
   "outputs": [
    {
     "name": "stderr",
     "output_type": "stream",
     "text": [
      "/Users/zhang-weihong/miniconda3/envs/claude-env/lib/python3.13/site-packages/tqdm/auto.py:21: TqdmWarning: IProgress not found. Please update jupyter and ipywidgets. See https://ipywidgets.readthedocs.io/en/stable/user_install.html\n",
      "  from .autonotebook import tqdm as notebook_tqdm\n"
     ]
    }
   ],
   "source": [
    "from datasets import load_dataset\n",
    "import shutil"
   ]
  },
  {
   "cell_type": "code",
   "execution_count": 2,
   "id": "b285dbfb",
   "metadata": {},
   "outputs": [],
   "source": [
    "dataset = load_dataset(\"princeton-nlp/SWE-Bench_Verified\", split=\"test\")"
   ]
  },
  {
   "cell_type": "code",
   "execution_count": 6,
   "id": "6381edc6",
   "metadata": {},
   "outputs": [],
   "source": [
    "def compare(submission, instance_id):\n",
    "    selected_instance = dataset.filter(lambda x: x[\"instance_id\"] == instance_id)\n",
    "\n",
    "    gt = selected_instance[0][\"patch\"]\n",
    "\n",
    "    with open(f\"playground/problem_{instance_id}.md\", \"w\") as f:\n",
    "        f.write(selected_instance[0][\"problem_statement\"])\n",
    "    with open(f\"playground/gt_{instance_id}.diff\", \"w\") as f:\n",
    "        f.write(gt)\n",
    "\n",
    "    shutil.copyfile(f\"submissions/{submission}/{instance_id}_patch.diff\", f\"playground/submission_{instance_id}.diff\")"
   ]
  },
  {
   "cell_type": "code",
   "execution_count": 10,
   "id": "ba875255",
   "metadata": {},
   "outputs": [],
   "source": [
    "def list_instances(submission):\n",
    "    import os\n",
    "    files = os.listdir(f\"submissions/{submission}\")\n",
    "    instance_ids = [f.split(\"_patch.diff\")[0] for f in files if f.endswith(\"_patch.diff\")]\n",
    "    return instance_ids\n",
    "compare(\"20250522_sweagent_claude-4-sonnet-20250514\", \"sympy__sympy-20801\")"
   ]
  }
 ],
 "metadata": {
  "kernelspec": {
   "display_name": "claude-env",
   "language": "python",
   "name": "python3"
  },
  "language_info": {
   "codemirror_mode": {
    "name": "ipython",
    "version": 3
   },
   "file_extension": ".py",
   "mimetype": "text/x-python",
   "name": "python",
   "nbconvert_exporter": "python",
   "pygments_lexer": "ipython3",
   "version": "3.13.5"
  }
 },
 "nbformat": 4,
 "nbformat_minor": 5
}
