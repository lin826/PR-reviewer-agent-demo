{
 "cells": [
  {
   "cell_type": "code",
   "execution_count": 1,
   "id": "380d5638",
   "metadata": {},
   "outputs": [
    {
     "name": "stderr",
     "output_type": "stream",
     "text": [
      "/Users/doris/Documents/Programming/SWE-quality/venv/lib/python3.13/site-packages/tqdm/auto.py:21: TqdmWarning: IProgress not found. Please update jupyter and ipywidgets. See https://ipywidgets.readthedocs.io/en/stable/user_install.html\n",
      "  from .autonotebook import tqdm as notebook_tqdm\n"
     ]
    }
   ],
   "source": [
    "from datasets import load_dataset\n",
    "import shutil"
   ]
  },
  {
   "cell_type": "code",
   "execution_count": 2,
   "id": "b285dbfb",
   "metadata": {},
   "outputs": [],
   "source": [
    "dataset = load_dataset(\"princeton-nlp/SWE-Bench_Verified\", split=\"test\")"
   ]
  },
  {
   "cell_type": "code",
   "execution_count": 3,
   "id": "6381edc6",
   "metadata": {},
   "outputs": [],
   "source": [
    "def compare(submission, instance_id):\n",
    "    selected_instance = dataset.filter(lambda x: x[\"instance_id\"] == instance_id)\n",
    "\n",
    "    gt = selected_instance[0][\"patch\"]\n",
    "\n",
    "    with open(\"playground/problem.txt\", \"w\") as f:\n",
    "        f.write(selected_instance[0][\"problem_statement\"])\n",
    "    with open(\"playground/gt.diff\", \"w\") as f:\n",
    "        f.write(gt)\n",
    "\n",
    "    shutil.copyfile(f\"submissions/{submission}/{instance_id}_patch.diff\", \"playground/submission.diff\")"
   ]
  },
  {
   "cell_type": "code",
   "execution_count": 4,
   "id": "ba875255",
   "metadata": {},
   "outputs": [],
   "source": [
    "compare(\"20250316_augment_agent_v0\", \"matplotlib__matplotlib-13989\")"
   ]
  },
  {
   "cell_type": "code",
   "execution_count": 5,
   "id": "6abb8950",
   "metadata": {},
   "outputs": [],
   "source": [
    "compare(\"20250316_augment_agent_v0\",\"psf__requests-1142\")"
   ]
  },
  {
   "cell_type": "code",
   "execution_count": null,
   "id": "87ea71b6",
   "metadata": {},
   "outputs": [],
   "source": []
  }
 ],
 "metadata": {
  "kernelspec": {
   "display_name": "claude-env",
   "language": "python",
   "name": "python3"
  },
  "language_info": {
   "codemirror_mode": {
    "name": "ipython",
    "version": 3
   },
   "file_extension": ".py",
   "mimetype": "text/x-python",
   "name": "python",
   "nbconvert_exporter": "python",
   "pygments_lexer": "ipython3",
   "version": "3.13.5"
  }
 },
 "nbformat": 4,
 "nbformat_minor": 5
}
