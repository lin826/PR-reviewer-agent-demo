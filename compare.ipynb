{
 "cells": [
  {
   "cell_type": "code",
   "execution_count": 5,
   "id": "380d5638",
   "metadata": {},
   "outputs": [],
   "source": [
    "from datasets import load_dataset\n",
    "import json\n",
    "\n",
    "dataset = load_dataset(\"princeton-nlp/SWE-Bench_Verified\", split=\"test\")\n",
    "\n",
    "with open(\"/Users/zhang-weihong/Downloads/all_preds_verified.jsonl\", \"r\") as f:\n",
    "    all_preds = [json.loads(line) for line in f]\n",
    "\n",
    "\n",
    "def compare(instance_id):\n",
    "    selected_instance = dataset.filter(lambda x: x[\"instance_id\"] == instance_id)\n",
    "    selected_preds = [pred for pred in all_preds if pred[\"instance_id\"] == instance_id]\n",
    "\n",
    "    gt = selected_instance[0][\"patch\"]\n",
    "    pred = selected_preds[0][\"model_patch\"]\n",
    "\n",
    "    with open(\"problem.txt\", \"w\") as f:\n",
    "        f.write(selected_instance[0][\"problem_statement\"])\n",
    "    with open(\"gt.diff\", \"w\") as f:\n",
    "        f.write(gt)\n",
    "    with open(\"pred.diff\", \"w\") as f:\n",
    "        f.write(pred)\n",
    "    # print(gt)\n",
    "    # print(\"======================\")\n",
    "    # print(pred)\n",
    "\n",
    "# compare(\"django__django-10880\")"
   ]
  },
  {
   "cell_type": "code",
   "execution_count": null,
   "id": "ba875255",
   "metadata": {},
   "outputs": [],
   "source": [
    "# Seems ok\n",
    "compare(\"matplotlib__matplotlib-13989\")"
   ]
  },
  {
   "cell_type": "code",
   "execution_count": 10,
   "id": "6abb8950",
   "metadata": {},
   "outputs": [
    {
     "name": "stderr",
     "output_type": "stream",
     "text": [
      "Filter: 100%|██████████| 500/500 [00:00<00:00, 46668.71 examples/s]\n"
     ]
    }
   ],
   "source": [
    "\n",
    "compare(\"psf__requests-1142\")"
   ]
  }
 ],
 "metadata": {
  "kernelspec": {
   "display_name": "claude-env",
   "language": "python",
   "name": "python3"
  },
  "language_info": {
   "codemirror_mode": {
    "name": "ipython",
    "version": 3
   },
   "file_extension": ".py",
   "mimetype": "text/x-python",
   "name": "python",
   "nbconvert_exporter": "python",
   "pygments_lexer": "ipython3",
   "version": "3.13.5"
  }
 },
 "nbformat": 4,
 "nbformat_minor": 5
}
